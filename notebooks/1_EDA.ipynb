{
 "cells": [
  {
   "cell_type": "markdown",
   "id": "5820432e",
   "metadata": {},
   "source": [
    "# 📊 Exploratory Data Analysis - Resume Dataset"
   ]
  },
  {
   "cell_type": "code",
   "execution_count": null,
   "id": "b7d2dbe6",
   "metadata": {},
   "outputs": [],
   "source": [
    "import pandas as pd\n",
    "\n",
    "resumes = pd.read_csv('../data/raw/resumes.csv')\n",
    "jobs = pd.read_csv('../data/raw/jobs.csv')\n",
    "\n",
    "resumes.head()\n"
   ]
  },
  {
   "cell_type": "code",
   "execution_count": null,
   "id": "cbdd3854",
   "metadata": {},
   "outputs": [],
   "source": [
    "jobs.head()\n"
   ]
  },
  {
   "cell_type": "markdown",
   "id": "92c9754d",
   "metadata": {},
   "source": [
    "✅ Basic EDA complete. Ready for text preprocessing!"
   ]
  }
 ],
 "metadata": {},
 "nbformat": 4,
 "nbformat_minor": 5
}
