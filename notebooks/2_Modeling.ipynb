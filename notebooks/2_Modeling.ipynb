{
 "cells": [
  {
   "cell_type": "markdown",
   "id": "19c6b640",
   "metadata": {},
   "source": [
    "# 🤖 Resume Matching - Modeling"
   ]
  },
  {
   "cell_type": "code",
   "execution_count": null,
   "id": "64f9e60a",
   "metadata": {},
   "outputs": [],
   "source": [
    "import pandas as pd\n",
    "from sklearn.feature_extraction.text import TfidfVectorizer\n",
    "from sklearn.metrics.pairwise import cosine_similarity\n",
    "\n",
    "# Load data\n",
    "resumes = pd.read_csv('../data/raw/resumes.csv')\n",
    "jobs = pd.read_csv('../data/raw/jobs.csv')\n",
    "\n",
    "# Vectorize text\n",
    "vectorizer = TfidfVectorizer()\n",
    "resume_vecs = vectorizer.fit_transform(resumes['resume_text'])\n",
    "job_vecs = vectorizer.transform(jobs['job_description'])\n",
    "\n",
    "# Compute similarity\n",
    "similarities = cosine_similarity(resume_vecs, job_vecs)\n",
    "\n",
    "similarities\n"
   ]
  },
  {
   "cell_type": "markdown",
   "id": "f297f432",
   "metadata": {},
   "source": [
    "✅ Basic Resume-Job Matching complete! Ready for Streamlit demo."
   ]
  }
 ],
 "metadata": {},
 "nbformat": 4,
 "nbformat_minor": 5
}
